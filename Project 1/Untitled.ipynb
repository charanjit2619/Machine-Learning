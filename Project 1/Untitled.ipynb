{
 "cells": [
  {
   "cell_type": "code",
   "execution_count": 4,
   "id": "a6666e31",
   "metadata": {},
   "outputs": [],
   "source": [
    "import pandas as pd\n",
    "import numpy as np\n",
    "\n",
    "# train_data = open('P3train.txt', 'r')\n",
    "            \n",
    "# lines, columns = train_data.readline().split()\n",
    "# x_train = pandas.DataFrame(np.ones((int(lines), 1)))\n",
    "# x_train1 = pandas.DataFrame(np.ones((int(lines), 3)))\n",
    "# y_train1 = pandas.DataFrame(np.ones((int(lines), 1)))\n",
    "# x_train1.loc[i,1]\n",
    "# for i in range(int(lines)):\n",
    "#     x_train1.loc[i,1], x_train1.loc[i,2], y_train1.loc[i, 0]  = train_data.readline().split()\n",
    "# train_data.close()\n",
    "\n",
    "# test_data = open('P3test.txt', 'r')\n",
    "\n",
    "# lines, columns = test_data.readline().split()\n",
    "# x_test = pandas.DataFrame(np.ones((int(lines), 1)))\n",
    "# x_test1 = pandas.DataFrame(np.ones((int(lines), 3)))\n",
    "# y_test1 = pandas.DataFrame(np.ones((int(lines), 1)))\n",
    "\n",
    "# for i in range(int(lines)):\n",
    "#     x_test1.loc[i,1], x_test1.loc[i,2], y_test1.loc[i, 0]  = test_data.readline().split()\n",
    "# test_data.close()\n",
    "\n",
    "\n",
    "\n",
    "# z = 0\n",
    "# Power = 2\n",
    "# for j in range(Power+1): \n",
    "#     for i in range(Power+1):\n",
    "#         temp = (x_test1[1].astype(float).pow(i)).multiply((x_test1[2].astype(float).pow(j)))\n",
    "#         x_test[z] = temp\n",
    "#         z  +=1\n",
    "\n",
    "# z = 0\n",
    "# Power = 2\n",
    "# for j in range(Power+1): \n",
    "#     for i in range(Power+1):\n",
    "#         temp = (x_train1[1].astype(float).pow(i)).multiply((x_train1[2].astype(float).pow(j)))\n",
    "#         x_train[z] = temp\n",
    "#         z  +=1"
   ]
  },
  {
   "cell_type": "code",
   "execution_count": 17,
   "id": "3fb4f8e0",
   "metadata": {},
   "outputs": [],
   "source": [
    "df1=pd.DataFrame({0:[14,4,5,4,1],\n",
    "                  1:[5,2,54,3,2],\n",
    "                  2:[20,20,7,3,8],\n",
    "                  3:[14,3,6,2,6]})"
   ]
  },
  {
   "cell_type": "code",
   "execution_count": 18,
   "id": "23407f8f",
   "metadata": {},
   "outputs": [
    {
     "data": {
      "text/html": [
       "<div>\n",
       "<style scoped>\n",
       "    .dataframe tbody tr th:only-of-type {\n",
       "        vertical-align: middle;\n",
       "    }\n",
       "\n",
       "    .dataframe tbody tr th {\n",
       "        vertical-align: top;\n",
       "    }\n",
       "\n",
       "    .dataframe thead th {\n",
       "        text-align: right;\n",
       "    }\n",
       "</style>\n",
       "<table border=\"1\" class=\"dataframe\">\n",
       "  <thead>\n",
       "    <tr style=\"text-align: right;\">\n",
       "      <th></th>\n",
       "      <th>0</th>\n",
       "      <th>1</th>\n",
       "      <th>2</th>\n",
       "      <th>3</th>\n",
       "    </tr>\n",
       "  </thead>\n",
       "  <tbody>\n",
       "    <tr>\n",
       "      <th>0</th>\n",
       "      <td>14</td>\n",
       "      <td>5</td>\n",
       "      <td>20</td>\n",
       "      <td>14</td>\n",
       "    </tr>\n",
       "    <tr>\n",
       "      <th>1</th>\n",
       "      <td>4</td>\n",
       "      <td>2</td>\n",
       "      <td>20</td>\n",
       "      <td>3</td>\n",
       "    </tr>\n",
       "    <tr>\n",
       "      <th>2</th>\n",
       "      <td>5</td>\n",
       "      <td>54</td>\n",
       "      <td>7</td>\n",
       "      <td>6</td>\n",
       "    </tr>\n",
       "    <tr>\n",
       "      <th>3</th>\n",
       "      <td>4</td>\n",
       "      <td>3</td>\n",
       "      <td>3</td>\n",
       "      <td>2</td>\n",
       "    </tr>\n",
       "    <tr>\n",
       "      <th>4</th>\n",
       "      <td>1</td>\n",
       "      <td>2</td>\n",
       "      <td>8</td>\n",
       "      <td>6</td>\n",
       "    </tr>\n",
       "  </tbody>\n",
       "</table>\n",
       "</div>"
      ],
      "text/plain": [
       "    0   1   2   3\n",
       "0  14   5  20  14\n",
       "1   4   2  20   3\n",
       "2   5  54   7   6\n",
       "3   4   3   3   2\n",
       "4   1   2   8   6"
      ]
     },
     "execution_count": 18,
     "metadata": {},
     "output_type": "execute_result"
    }
   ],
   "source": [
    "df1"
   ]
  },
  {
   "cell_type": "code",
   "execution_count": 27,
   "id": "f22aff94",
   "metadata": {},
   "outputs": [
    {
     "data": {
      "text/html": [
       "<div>\n",
       "<style scoped>\n",
       "    .dataframe tbody tr th:only-of-type {\n",
       "        vertical-align: middle;\n",
       "    }\n",
       "\n",
       "    .dataframe tbody tr th {\n",
       "        vertical-align: top;\n",
       "    }\n",
       "\n",
       "    .dataframe thead th {\n",
       "        text-align: right;\n",
       "    }\n",
       "</style>\n",
       "<table border=\"1\" class=\"dataframe\">\n",
       "  <thead>\n",
       "    <tr style=\"text-align: right;\">\n",
       "      <th></th>\n",
       "      <th>0</th>\n",
       "      <th>1</th>\n",
       "      <th>2</th>\n",
       "      <th>3</th>\n",
       "      <th>4</th>\n",
       "    </tr>\n",
       "  </thead>\n",
       "  <tbody>\n",
       "    <tr>\n",
       "      <th>0</th>\n",
       "      <td>42</td>\n",
       "      <td>10</td>\n",
       "      <td>80</td>\n",
       "      <td>70</td>\n",
       "      <td>NaN</td>\n",
       "    </tr>\n",
       "    <tr>\n",
       "      <th>1</th>\n",
       "      <td>12</td>\n",
       "      <td>4</td>\n",
       "      <td>80</td>\n",
       "      <td>15</td>\n",
       "      <td>NaN</td>\n",
       "    </tr>\n",
       "    <tr>\n",
       "      <th>2</th>\n",
       "      <td>15</td>\n",
       "      <td>108</td>\n",
       "      <td>28</td>\n",
       "      <td>30</td>\n",
       "      <td>NaN</td>\n",
       "    </tr>\n",
       "    <tr>\n",
       "      <th>3</th>\n",
       "      <td>12</td>\n",
       "      <td>6</td>\n",
       "      <td>12</td>\n",
       "      <td>10</td>\n",
       "      <td>NaN</td>\n",
       "    </tr>\n",
       "    <tr>\n",
       "      <th>4</th>\n",
       "      <td>3</td>\n",
       "      <td>4</td>\n",
       "      <td>32</td>\n",
       "      <td>30</td>\n",
       "      <td>NaN</td>\n",
       "    </tr>\n",
       "  </tbody>\n",
       "</table>\n",
       "</div>"
      ],
      "text/plain": [
       "    0    1   2   3   4\n",
       "0  42   10  80  70 NaN\n",
       "1  12    4  80  15 NaN\n",
       "2  15  108  28  30 NaN\n",
       "3  12    6  12  10 NaN\n",
       "4   3    4  32  30 NaN"
      ]
     },
     "execution_count": 27,
     "metadata": {},
     "output_type": "execute_result"
    }
   ],
   "source": [
    "sr = pd.Series(np.array([3, 2, 4, 5, 6]))\n",
    "df1.mul(sr, axis = 1)"
   ]
  },
  {
   "cell_type": "code",
   "execution_count": 26,
   "id": "dce3a00f",
   "metadata": {},
   "outputs": [
    {
     "data": {
      "text/plain": [
       "0    53\n",
       "1    29\n",
       "2    72\n",
       "3    12\n",
       "4    17\n",
       "dtype: int64"
      ]
     },
     "execution_count": 26,
     "metadata": {},
     "output_type": "execute_result"
    }
   ],
   "source": [
    "df1.sum(axis = 1)"
   ]
  },
  {
   "cell_type": "code",
   "execution_count": null,
   "id": "8fbbcc3b",
   "metadata": {},
   "outputs": [],
   "source": []
  }
 ],
 "metadata": {
  "kernelspec": {
   "display_name": "Python 3 (ipykernel)",
   "language": "python",
   "name": "python3"
  },
  "language_info": {
   "codemirror_mode": {
    "name": "ipython",
    "version": 3
   },
   "file_extension": ".py",
   "mimetype": "text/x-python",
   "name": "python",
   "nbconvert_exporter": "python",
   "pygments_lexer": "ipython3",
   "version": "3.9.13"
  }
 },
 "nbformat": 4,
 "nbformat_minor": 5
}
