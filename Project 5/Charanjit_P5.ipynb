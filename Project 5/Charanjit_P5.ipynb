{
 "cells": [
  {
   "cell_type": "markdown",
   "metadata": {},
   "source": [
    "# Project 5: K-Means Clustering\n",
    "\n",
    "Before we start, please put your name and CUID in following format\n",
    "\n",
    ": Firstname LASTNAME, #00000000   //   e.g. Nianyi LI, #12345678"
   ]
  },
  {
   "attachments": {},
   "cell_type": "markdown",
   "metadata": {},
   "source": [
    "**Your Answer:**   \n",
    "Charanjit Singh, #C15246652"
   ]
  },
  {
   "cell_type": "markdown",
   "metadata": {},
   "source": [
    "# General Rules of the Project Submission\n",
    "\n",
    "Python 3 and [Matplotlib](https://matplotlib.org/) will be used throughout the semseter, so it is important to be familiar with them. It is strongly suggested to go through [Stanford CS231n](http://cs231n.github.io/python-numpy-tutorial/) and [CS228](https://github.com/kuleshov/cs228-material/blob/master/tutorials/python/cs228-python-tutorial.ipynb) for more detailed Python and numpy tutorials if you haven't had used Python before. \n",
    "\n",
    "In some cells and files you will see code blocks that look like this:\n",
    "\n",
    "```python\n",
    "##############################################################################\n",
    "#                    TODO: Write the equation for a line                     #\n",
    "##############################################################################\n",
    "pass\n",
    "##############################################################################\n",
    "#                              END OF YOUR CODE                              #\n",
    "##############################################################################\n",
    "```\n",
    "\n",
    "You should replace the `pass` statement with your own code and leave the blocks intact, like this:\n",
    "\n",
    "```python\n",
    "##############################################################################\n",
    "#                    TODO: Write the equation for a line                     #\n",
    "##############################################################################\n",
    "y = m * x + b\n",
    "##############################################################################\n",
    "#                              END OF YOUR CODE                              #\n",
    "##############################################################################\n",
    "```\n",
    "\n",
    "When completing the notebook, please adhere to the following rules:\n",
    "- Do not write or modify any code outside of code blocks\n",
    "- Follow the instruction of the project description carefully\n",
    "- Run all cells before submitting. <span style=\"color:red\">**You will only get credit for code that has been run!**.</span>\n",
    "\n",
    "The last point is extremely important and bears repeating:\n",
    "\n",
    "### We will not re-run your notebook -- <span style=\"color:red\">you will only get credit for cells that have been run</span>\n",
    "\n",
    "### File name\n",
    "Your Python program should be named **yourlastname_yourfirstname_P5.ipynb**, then zip it and upload to Canvas"
   ]
  },
  {
   "cell_type": "markdown",
   "metadata": {},
   "source": [
    "# Project Description\n",
    "\n",
    "For this project you will implement a **K-means** clustering algorithm.\n"
   ]
  },
  {
   "cell_type": "markdown",
   "metadata": {},
   "source": [
    "## Data File"
   ]
  },
  {
   "cell_type": "markdown",
   "metadata": {},
   "source": [
    "Two text files with the data is available on Canvas: a data file and a centroids file. You need to write a code to read data from the two files. \n",
    "\n",
    "The **data file** will be formatted with the first line containing m and n, tab separated, where m is the number of lines of data and n is the number of features (for this assignment n will be 2 but assume we still put it into the file.)\n",
    "\n",
    "Each line will contain two real values (feature $x_1$ and feature $x_2$), tab separated. Such as the following:\n",
    "```\n",
    "\n",
    "4\t2\n",
    "6.3\t6.0\n",
    "6.7\t5.8\n",
    "5.7\t4.1\n",
    "5.6\t3.9\n",
    "```\n",
    "The **centroid file** containing two initial centroids, formatted with the number of centroids on the first line and the coordinates of each centroid on the following lines, one centroid per line, tab separated. Such as:\n",
    "```\n",
    "2\n",
    "4 4\n",
    "6 6\n",
    "```\n",
    "\n",
    "You **can** use packages, such as **panda**, to load the data.\n"
   ]
  },
  {
   "cell_type": "code",
   "execution_count": 1,
   "metadata": {},
   "outputs": [],
   "source": [
    "##############################################################################\n",
    "#         TODO: Write the code for reading data from files                    #\n",
    "##############################################################################\n",
    "# Code to load centroids' coordinates\n",
    "import pandas as pd\n",
    "\n",
    "\n",
    "centroids = pd.read_csv(\"C:/Users/chara/OneDrive/Desktop/Chirag_files/Coursework/Spring'23/Machine Learning/Project 5/P5_Centroids.txt\", sep=\"\\t\", header = None, index_col=False)\n",
    "centroids_no = centroids.iloc[0,1]\n",
    "centroids = centroids.iloc[1:,:]\n",
    "\n",
    "# Code to load data points' coordinates\n",
    "data_points = pd.read_csv(\"C:/Users/chara/OneDrive/Desktop/Chirag_files/Coursework/Spring'23/Machine Learning/Project 5/P5_Data.txt\", sep=\"\\t\", header = None, index_col=False)\n",
    "num_rows = data_points.iloc[0,0]\n",
    "num_features = data_points.iloc[0,1]\n",
    "data_points = data_points.iloc[1:,:]\n",
    "##############################################################################\n",
    "#                              END OF YOUR CODE                              #\n",
    "##############################################################################"
   ]
  },
  {
   "cell_type": "markdown",
   "metadata": {},
   "source": [
    "Next, you need to print out a plot of the data to the screen, including the two initial centroids (color coded) like the following figure:\n",
    "\n",
    "<div>\n",
    "<img src=\"https://nianyil.people.clemson.edu/CPSC_4430/P5_1.jpg\" width=\"400\"/>\n",
    "</div>"
   ]
  },
  {
   "cell_type": "code",
   "execution_count": 2,
   "metadata": {},
   "outputs": [
    {
     "data": {
      "image/png": "[encoded data removed]",
      "text/plain": [
       "<Figure size 640x480 with 1 Axes>"
      ]
     },
     "metadata": {},
     "output_type": "display_data"
    }
   ],
   "source": [
    "import matplotlib.pyplot as plt\n",
    "\n",
    "plt.scatter(data_points[0], data_points[1], label='Data points', c = 'purple')\n",
    "\n",
    "\n",
    "plt.scatter(centroids.iloc[0, 0], centroids.iloc[0, 1], marker='^', label='Centroid 1', c = 'red')\n",
    "plt.scatter(centroids.iloc[1, 0], centroids.iloc[1, 1], marker='^', label='Centroid 2', c = 'green')\n",
    "\n",
    "plt.title('Initial data points and centroids')\n",
    "plt.legend()\n",
    "\n",
    "# show plot\n",
    "plt.show()"
   ]
  },
  {
   "cell_type": "markdown",
   "metadata": {},
   "source": [
    "## K-means Clustering"
   ]
  },
  {
   "cell_type": "markdown",
   "metadata": {},
   "source": [
    "Implement K-means (**K=2**) to cluster the data into two groups."
   ]
  },
  {
   "cell_type": "code",
   "execution_count": 3,
   "metadata": {},
   "outputs": [
    {
     "data": {
      "text/html": [
       "<div>\n",
       "<style scoped>\n",
       "    .dataframe tbody tr th:only-of-type {\n",
       "        vertical-align: middle;\n",
       "    }\n",
       "\n",
       "    .dataframe tbody tr th {\n",
       "        vertical-align: top;\n",
       "    }\n",
       "\n",
       "    .dataframe thead th {\n",
       "        text-align: right;\n",
       "    }\n",
       "</style>\n",
       "<table border=\"1\" class=\"dataframe\">\n",
       "  <thead>\n",
       "    <tr style=\"text-align: right;\">\n",
       "      <th></th>\n",
       "      <th>0</th>\n",
       "      <th>1</th>\n",
       "    </tr>\n",
       "  </thead>\n",
       "  <tbody>\n",
       "    <tr>\n",
       "      <th>1</th>\n",
       "      <td>7.0</td>\n",
       "      <td>2</td>\n",
       "    </tr>\n",
       "    <tr>\n",
       "      <th>2</th>\n",
       "      <td>4.0</td>\n",
       "      <td>4</td>\n",
       "    </tr>\n",
       "  </tbody>\n",
       "</table>\n",
       "</div>"
      ],
      "text/plain": [
       "     0  1\n",
       "1  7.0  2\n",
       "2  4.0  4"
      ]
     },
     "execution_count": 3,
     "metadata": {},
     "output_type": "execute_result"
    }
   ],
   "source": [
    "centroids"
   ]
  },
  {
   "cell_type": "code",
   "execution_count": 4,
   "metadata": {},
   "outputs": [],
   "source": [
    "##############################################################################\n",
    "#                TODO: Implement the K-means clustering                      #\n",
    "##############################################################################\n",
    "import numpy as np\n",
    "\n",
    "K = 2\n",
    "difference = pd.DataFrame(np.ones((2,2)))\n",
    "\n",
    "while abs(difference.max().max()) != 0: \n",
    "    distance1 = (data_points[0] - centroids.iloc[0, 0]) ** 2 + (data_points[1] - centroids.iloc[0, 1]) ** 2\n",
    "    distance2 = (data_points[0] - centroids.iloc[1, 0]) ** 2 + (data_points[1] - centroids.iloc[1, 1]) ** 2\n",
    "    data_points['cluster'] = np.where(distance2 < distance1, 1, 0)\n",
    "\n",
    "    new_centroids = data_points.groupby('cluster').mean()[[0, 1]]\n",
    "    difference = centroids - new_centroids\n",
    "    centroids = new_centroids.copy()\n",
    "\n",
    "##############################################################################\n",
    "#                              END OF YOUR CODE                              #\n",
    "##############################################################################"
   ]
  },
  {
   "cell_type": "markdown",
   "metadata": {},
   "source": [
    "Once the algorithm converged, print out a plot of the cluster data with each cluster color coded along with the final centroids like the following:\n",
    "<div>\n",
    "<img src=\"https://nianyil.people.clemson.edu/CPSC_4430/P5_2.jpg\" width=\"400\"/>\n",
    "</div>"
   ]
  },
  {
   "cell_type": "code",
   "execution_count": 5,
   "metadata": {},
   "outputs": [
    {
     "data": {
      "image/png": "[encoded data removed]",
      "text/plain": [
       "<Figure size 640x480 with 1 Axes>"
      ]
     },
     "metadata": {},
     "output_type": "display_data"
    }
   ],
   "source": [
    "##############################################################################\n",
    "#                TODO: Plot the clustering result                           #\n",
    "##############################################################################\n",
    "cluster0 = data_points[data_points['cluster'] == 0]\n",
    "cluster1 = data_points[data_points['cluster'] == 1]\n",
    "\n",
    "\n",
    "plt.scatter(cluster0[0], cluster0[1], label='Cluster 1 Data points', c = 'red')\n",
    "plt.scatter(centroids.iloc[0, 0], centroids.iloc[0, 1], marker='^', label='Centroid 1', c = 'red')\n",
    "\n",
    "plt.scatter(centroids.iloc[1, 0], centroids.iloc[1, 1], marker='^', label='Centroid 2', c = 'green')\n",
    "plt.scatter(cluster1[0], cluster1[1], label='Cluster 2 Data points', c = 'green')\n",
    "\n",
    "plt.title('Initial data points and centroids')\n",
    "plt.legend()\n",
    "\n",
    "# show plot\n",
    "plt.show()\n",
    "##############################################################################\n",
    "#                              END OF YOUR CODE                              #\n",
    "##############################################################################"
   ]
  },
  {
   "cell_type": "markdown",
   "metadata": {},
   "source": [
    "Next, print out the coordinates of the final centroids."
   ]
  },
  {
   "cell_type": "code",
   "execution_count": 6,
   "metadata": {},
   "outputs": [
    {
     "name": "stdout",
     "output_type": "stream",
     "text": [
      "Final Coordinates:\n",
      "+----+---------+---------+\n",
      "|    |       x |       y |\n",
      "|----+---------+---------|\n",
      "|  0 | 6.02667 | 2.79111 |\n",
      "|  1 | 5.01636 | 3.34182 |\n",
      "+----+---------+---------+\n"
     ]
    }
   ],
   "source": [
    "##############################################################################\n",
    "#       TODO: print out the final centroids' coordinates                     #\n",
    "##############################################################################\n",
    "from tabulate import tabulate\n",
    "print(\"Final Coordinates:\")\n",
    "print(tabulate(centroids, headers=['x', 'y'], tablefmt='psql'))\n",
    "##############################################################################\n",
    "#                              END OF YOUR CODE                              #\n",
    "##############################################################################"
   ]
  },
  {
   "cell_type": "markdown",
   "metadata": {},
   "source": [
    "## Model Evaluation"
   ]
  },
  {
   "cell_type": "markdown",
   "metadata": {},
   "source": [
    "Compute and **print out the overall error** (J function presented in the course slides) for the entire data set.\n"
   ]
  },
  {
   "cell_type": "code",
   "execution_count": 7,
   "metadata": {},
   "outputs": [
    {
     "name": "stdout",
     "output_type": "stream",
     "text": [
      "Overall Error: 0.304\n"
     ]
    }
   ],
   "source": [
    "##############################################################################\n",
    "#                           TODO: Model Evaluation                           #\n",
    "##############################################################################\n",
    "cost = (distance1[data_points['cluster'] == 0].sum() + distance2[data_points['cluster'] == 1].sum())/num_rows\n",
    "print(f'Overall Error: {np.round(cost, 3)}')\n",
    "##############################################################################\n",
    "#                              END OF YOUR CODE                              #\n",
    "##############################################################################"
   ]
  }
 ],
 "metadata": {
  "kernelspec": {
   "display_name": "Python 3 (ipykernel)",
   "language": "python",
   "name": "python3"
  },
  "language_info": {
   "codemirror_mode": {
    "name": "ipython",
    "version": 3
   },
   "file_extension": ".py",
   "mimetype": "text/x-python",
   "name": "python",
   "nbconvert_exporter": "python",
   "pygments_lexer": "ipython3",
   "version": "3.9.13"
  }
 },
 "nbformat": 4,
 "nbformat_minor": 2
}
