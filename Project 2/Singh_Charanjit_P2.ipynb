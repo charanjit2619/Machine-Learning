{
 "cells": [
  {
   "cell_type": "markdown",
   "metadata": {},
   "source": [
    "# Project 2: Choosing a Model for Predicting on Unseen Data\n",
    "\n",
    "Before we start, please put your name and CUID in following format\n",
    "\n",
    ": Firstname LASTNAME, #00000000   //   e.g. Nianyi LI, #12345678"
   ]
  },
  {
   "cell_type": "markdown",
   "metadata": {},
   "source": [
    "**Your Answer:**   \n",
    "Charanjit Singh, C15246652"
   ]
  },
  {
   "cell_type": "markdown",
   "metadata": {},
   "source": [
    "# General Rules of the Project Submission\n",
    "\n",
    "Python 3 and [Matplotlib](https://matplotlib.org/) will be used throughout the semseter, so it is important to be familiar with them. It is strongly suggested to go through [Stanford CS231n](http://cs231n.github.io/python-numpy-tutorial/) and [CS228](https://github.com/kuleshov/cs228-material/blob/master/tutorials/python/cs228-python-tutorial.ipynb) for more detailed Python and numpy tutorials if you haven't had used Python before. \n",
    "\n",
    "In some cells and files you will see code blocks that look like this:\n",
    "\n",
    "```python\n",
    "##############################################################################\n",
    "#                    TODO: Write the equation for a line                     #\n",
    "##############################################################################\n",
    "pass\n",
    "##############################################################################\n",
    "#                              END OF YOUR CODE                              #\n",
    "##############################################################################\n",
    "```\n",
    "\n",
    "You should replace the `pass` statement with your own code and leave the blocks intact, like this:\n",
    "\n",
    "```python\n",
    "##############################################################################\n",
    "#                    TODO: Write the equation for a line                     #\n",
    "##############################################################################\n",
    "y = m * x + b\n",
    "##############################################################################\n",
    "#                              END OF YOUR CODE                              #\n",
    "##############################################################################\n",
    "```\n",
    "\n",
    "When completing the notebook, please adhere to the following rules:\n",
    "- Do not write or modify any code outside of code blocks\n",
    "- Follow the instruction of the project description carefully\n",
    "- Run all cells before submitting. <span style=\"color:red\">**You will only get credit for code that has been run!**.</span>\n",
    "\n",
    "The last point is extremely important and bears repeating:\n",
    "\n",
    "### We will not re-run your notebook -- <span style=\"color:red\">you will only get credit for cells that have been run</span>\n",
    "\n",
    "### File name\n",
    "Your Python program should be named **yourlastname_yourfirstname_P2.ipynb**, then zip it and upload to Canvas\n",
    "\n",
    "### Package usage\n",
    "You <span style=\"color:red\">**cannot**</span> use python machine learning package that can have the k-fold validation algorithm as embedded function, for instance, **sklearn** package."
   ]
  },
  {
   "cell_type": "markdown",
   "metadata": {},
   "source": [
    "# Project Description\n",
    "\n",
    "For Project 2 you will create a regression program and choose a model to predict the women’s Olympic 100-meter race record time for year **2024**. We will code the year of each race as we did in lecture 2.3. \n",
    "\n",
    "![caption](https://nianyil.people.clemson.edu/CPSC_4430/P2.jpg)\n"
   ]
  },
  {
   "cell_type": "markdown",
   "metadata": {},
   "source": [
    "## Data File"
   ]
  },
  {
   "cell_type": "markdown",
   "metadata": {},
   "source": [
    "A text file with the data is available on Canvas for the years 1928 through 2008 when the Olympics were held. The first line of the text file indicating there’re **m** lines of data and a **n** number of features (in this case, one). You need to write a code to read data from the file. You **can** use packages, such as **panda**, to load the data."
   ]
  },
  {
   "cell_type": "code",
   "execution_count": 1,
   "metadata": {},
   "outputs": [],
   "source": [
    "##############################################################################\n",
    "#         TODO: Write the code for reading data from file                    #\n",
    "##############################################################################\n",
    "from math import ceil\n",
    "from tabulate import tabulate\n",
    "import numpy as np\n",
    "import matplotlib.pyplot as plt\n",
    "\n",
    "olympics_data = open(\"W100MTimes.txt\", 'r')\n",
    "no_of_years, features = olympics_data.readline().split()\n",
    "\n",
    "# Defining y array for output values i.e. Record Time\n",
    "y = np.ones((int(no_of_years),1))\n",
    "# Defining x array for input values i.e. year\n",
    "x = np.ones([int(no_of_years),5])\n",
    "\n",
    "for i in range(int(no_of_years)):\n",
    "    yearly_data = olympics_data.readline().split()\n",
    "    x[i,1] = float(yearly_data[0])\n",
    "    x[i,2] = float(yearly_data[0])**2\n",
    "    x[i,3] = float(yearly_data[0])**3\n",
    "    x[i,4] = float(yearly_data[0])**4\n",
    "    y[i,0] = float(yearly_data[1])\n",
    "\n",
    "##############################################################################\n",
    "#                              END OF YOUR CODE                              #\n",
    "##############################################################################"
   ]
  },
  {
   "cell_type": "markdown",
   "metadata": {},
   "source": [
    "## Pick the Best Model"
   ]
  },
  {
   "cell_type": "markdown",
   "metadata": {},
   "source": [
    "Your project assignment is to compare four different models, linear, quadratic, cubic, and fourth. \n",
    "\n",
    "- $h_w(x) = w_0 + w_1x$\n",
    "- $h_w(x) = w_0 + w_1x + w_2x^2$\n",
    "- $h_w(x) = w_0 + w_1x + w_2x^2 + w_3x^3$\n",
    "- $h_w(x) = w_0 + w_1x + w_2x^2 + w_3x^3 + w_4x^4$\n"
   ]
  },
  {
   "cell_type": "code",
   "execution_count": 2,
   "metadata": {
    "scrolled": true
   },
   "outputs": [
    {
     "name": "stdout",
     "output_type": "stream",
     "text": [
      "Following Regression models of different degrees can be used:\n",
      "Polynomial Degree 1: 12.2877113498365351 -0.015071812237272617x \n",
      "Polynomial Degree 2: 13.1307195221203161 -0.04324827058227038x +0.00020636903843955192x^2 \n",
      "Polynomial Degree 3: 12.5156199062839731 -0.010222836775028554x -0.0003222176088293338x^2 +2.5952109484611574e-06x^3 \n",
      "Polynomial Degree 4: 12.4475632941464541 -0.005358469596732823x -0.0004421672951543106x^2 +3.824400793981875e-06x^3 -4.471290910592099e-09x^4 \n"
     ]
    }
   ],
   "source": [
    "##############################################################################\n",
    "#                 TODO: Define the regression models                         #\n",
    "##############################################################################\n",
    "\n",
    "# weight_matrix with 4 column {w}\n",
    "# Columns of weight matrix represent weights of polynomial with degree 1,2,3 and 4\n",
    "w = np.zeros((5,4))\n",
    "w_col = 1\n",
    "\n",
    "for i in range(2,6):\n",
    "    A = np.linalg.inv(np.dot(x[:, :i].T, x[:, :i]))\n",
    "    B = np.dot(x[:, :i].T ,y)\n",
    "    w[:i, w_col-1:w_col] = np.dot(A, B)\n",
    "    w_col += 1\n",
    "\n",
    "# Regression models of degree 1 to 4 have the following weight factors:\n",
    "# row_headers = ['Constant Term','Coefficient of x', 'Coefficient of x^2', 'Coefficient of x^3', 'Coefficient of x^4']\n",
    "# print(tabulate(w, headers=[\"Linear\", \"Quadatic\", \"Cubic\", \"Fourth Power\"], showindex = row_headers))\n",
    "\n",
    "print(\"Following Regression models of different degrees can be used:\")\n",
    "for i in range(4):\n",
    "    string = f'Polynomial Degree {i+1}: '\n",
    "    z = ['1' , 'x' , 'x^2', 'x^3', 'x^4']\n",
    "    for k in range(5):\n",
    "        if w[(k,i)] != 0:\n",
    "            string += str(w[(k,i)]) + z[k] + \" \"\n",
    "            if k != 4 and w[(k+1,i)] > 0:\n",
    "                string += \"+\"\n",
    "    print(string)\n",
    "        \n",
    "##############################################################################\n",
    "#                              END OF YOUR CODE                              #\n",
    "##############################################################################"
   ]
  },
  {
   "cell_type": "markdown",
   "metadata": {},
   "source": [
    "Next, you need to use <span style=\"color:red\">**5-fold cross validation**</span> to pick out the best model for the prediction. You should present a chart of the error function $J$, similar to the one in the lecture (see below). You may need to use package like \"**tabulate**\" to print out the table.\n",
    "\n",
    "```\n",
    "                     Linear    Quadratic    Cubic    Fourth\n",
    "-----------------  --------  -----------  -------  --------\n",
    "1234                  10.25        24.25    12.25     23.25\n",
    "5                     10.25        19.25    14.25     23.25\n",
    "1235                  10.25        15.25    19.25     23.25\n",
    "4                     10.25        10.25    20.25     23.25\n",
    "1245                  10.25        24.25    12.25     23.25\n",
    "3                     10.25        19.25    14.25     23.25\n",
    "1345                  10.25        24.25    12.25     23.25\n",
    "2                     10.25        19.25    14.25     23.25\n",
    "2345                  10.25        24.25    12.25     23.25\n",
    "1                     10.25        19.25    14.25     23.25\n",
    "Mean for Training      0            0        0         0\n",
    "Mean for Testing       0            0        0         0\n",
    "```\n",
    "\n",
    "You need to **plot** your training and testing $J$ with respect to the polynomial degree, similar to the one in the lecture."
   ]
  },
  {
   "cell_type": "code",
   "execution_count": 3,
   "metadata": {},
   "outputs": [],
   "source": [
    "##############################################################################\n",
    "#                     TODO: 5-fold cross-validation                         #\n",
    "##############################################################################\n",
    "#calculating the distribution of folds according to the no of divisions to be made\n",
    "folds = 5\n",
    "items_per_fold = ceil(int(no_of_years)/folds)\n",
    "fold_dict = {}\n",
    "start_idx = 0\n",
    "for i in range(1,folds+1):\n",
    "    if start_idx + items_per_fold -1 < int(no_of_years):\n",
    "        fold_dict[f'fold_{i}'] = list(range(start_idx,start_idx + items_per_fold))\n",
    "    else:\n",
    "        fold_dict[f'fold_{i}'] = list(range(start_idx,int(no_of_years)))\n",
    "    start_idx = start_idx + items_per_fold \n",
    "\n",
    "#defining J_array containing the J function (cost) values for training and test sets\n",
    "J_array = np.zeros((12,5),object)\n",
    "\n",
    "for k in range(1, folds+1):\n",
    "    training_folds  = \"12345\".replace(str(k), \"\")\n",
    "    testing_fold = f'{k}'\n",
    "    \n",
    "    #defining the training and testing sets\n",
    "    X_Train = x.copy()\n",
    "    X_Train = np.delete(X_Train, fold_dict['fold_{}'.format(k)] , 0)\n",
    "    X_Test = x[fold_dict['fold_{}'.format(k)]].copy()\n",
    "    Y_Train = y.copy()\n",
    "    Y_Train = np.delete(Y_Train, fold_dict['fold_{}'.format(k)] , 0)\n",
    "    Y_Test = y[fold_dict['fold_{}'.format(k)]].copy()\n",
    "    \n",
    "    # Calculating weight_matrix {w} according to above defined training sets\n",
    "    w = np.zeros((5,4))\n",
    "    w_col = 1\n",
    "\n",
    "    for i in range(2,6):\n",
    "        A = np.linalg.inv(np.dot(X_Train[:, :i].T, X_Train[:, :i]))\n",
    "        B = np.dot(X_Train[:, :i].T ,Y_Train)\n",
    "        w[:i, w_col-1:w_col] = np.dot(A, B)\n",
    "        w_col += 1\n",
    "       \n",
    "# To view the calculated weight matrices for each fold, uncomment below code:   \n",
    "#     print(f'w-->Fold {k}')\n",
    "#     print (tabulate(w, headers=[\"Linear\", \"Quadatic\", \"Cubic\", \"Fourth Power\"]))\n",
    "    \n",
    "    # Calculating cost function for training set\n",
    "    A = np.dot(X_Train, w) - Y_Train\n",
    "    J1 = (1/len(X_Train))*np.dot(A.T, A)\n",
    "    J1 = np .diag(J1).reshape((1,4))\n",
    "    J_array[2*k-2:2*k-1,1:] = np.around(J1[:],2)\n",
    "    J_array[2*k-2:2*k-1, 0] = training_folds\n",
    "    \n",
    "    # Calculating cost function for test set\n",
    "    A = np.dot(X_Test, w) - Y_Test\n",
    "    J2 = (1/len(X_Test))*np.dot(A.T, A)\n",
    "    J2 = np .diag(J2).reshape((1,4))\n",
    "    J_array[2*k-1:2*k,1:] = np.around(J2[:],2)\n",
    "    J_array[2*k-1:2*k,0] = testing_fold\n",
    "\n",
    "# Obtaining an diffrent array of cost function for training and test set for mean calculation\n",
    "j_train = np.array([J_array[2*k] for k in range(0,5)])\n",
    "j_test = np.array([J_array[2*k+1] for k in range(0,5)])\n",
    "\n",
    "# Mean calculation\n",
    "train_mean = [np.average(j_train[:, i].tolist()) for i in range(1,5)]\n",
    "test_mean = [np.average(j_test[:, i].tolist()) for i in range(1,5)]\n",
    "train_mean.insert(0, \"Mean for Training\")\n",
    "test_mean.insert(0, \"Mean for Testing\")\n",
    "\n",
    "J_array[10, :] = np.array(train_mean)\n",
    "J_array[11, :] = np.array(test_mean)\n",
    "\n",
    "\n",
    "##############################################################################\n",
    "#                              END OF YOUR CODE                              #\n",
    "##############################################################################"
   ]
  },
  {
   "cell_type": "code",
   "execution_count": 4,
   "metadata": {},
   "outputs": [
    {
     "name": "stdout",
     "output_type": "stream",
     "text": [
      "Training Folds       Linear    Quadatic    Cubic    Fourth Power\n",
      "-----------------  --------  ----------  -------  --------------\n",
      "2345                  0.03        0.03     0.03             0.02\n",
      "1                     0.2         0.12     0.31             0.84\n",
      "1345                  0.05        0.04     0.03             0.03\n",
      "2                     0.04        0.04     0.03             0.03\n",
      "1245                  0.05        0.04     0.04             0.04\n",
      "3                     0.03        0.01     0.01             0.01\n",
      "1235                  0.05        0.03     0.03             0.03\n",
      "4                     0.06        0.05     0.06             0.09\n",
      "1234                  0.04        0.04     0.03             0.03\n",
      "5                     0.18        0.07     0.04             0.48\n",
      "Mean for Training     0.044       0.036    0.032            0.03\n",
      "Mean for Testing      0.102       0.058    0.09             0.29\n"
     ]
    }
   ],
   "source": [
    "##############################################################################\n",
    "#                     TODO: Print out the table chart                       #\n",
    "##############################################################################\n",
    "\n",
    "print (tabulate(J_array, headers=[\"Training Folds\",\"Linear\", \"Quadatic\", \"Cubic\", \"Fourth Power\"]))\n",
    "\n",
    "##############################################################################\n",
    "#                              END OF YOUR CODE                              #\n",
    "##############################################################################"
   ]
  },
  {
   "cell_type": "markdown",
   "metadata": {},
   "source": [
    "As it is seen, that quadratic function has the least mean squared error for testing values. So, we will use a quadratic function as our regresison model."
   ]
  },
  {
   "cell_type": "code",
   "execution_count": 5,
   "metadata": {},
   "outputs": [
    {
     "data": {
      "image/png": "[encoded data removed]",
      "text/plain": [
       "<Figure size 640x480 with 1 Axes>"
      ]
     },
     "metadata": {},
     "output_type": "display_data"
    }
   ],
   "source": [
    "##############################################################################\n",
    "#                     TODO: Plot the J curve                                 #\n",
    "##############################################################################\n",
    "\n",
    "pol_degree = [1,2,3,4]\n",
    "\n",
    "\n",
    "train_plot = plt.plot(np.array(pol_degree), np.array(train_mean[1:]), linestyle = '-', color = 'blue', marker = 'o',label = \"Training Data\" )\n",
    "test_plot = plt.plot(np.array(pol_degree), np.array(test_mean[1:]), linestyle = '-', color = 'red', marker = 'X', label = \"Test Data\")\n",
    "plt.xlabel(\"Highest Polynomial Degree\")\n",
    "plt.ylabel(\"Squared Error Cost Function\")\n",
    "plt.title(\"Mean Squared error vs Regression polynomial degree\")\n",
    "plt.xticks([0, 1, 2, 3, 4])\n",
    "plt.legend()\n",
    "plt.savefig('Error_Func.png', bbox_inches='tight')\n",
    "plt.show() \n",
    "\n",
    "##############################################################################\n",
    "#                              END OF YOUR CODE                              #\n",
    "##############################################################################"
   ]
  },
  {
   "cell_type": "markdown",
   "metadata": {},
   "source": [
    "Based on your data and plot, you should then briefly discuss **which model is the best** for the record time prediction.\n",
    "\n",
    "**Your Answer:**  \n",
    "Although the error of training data is decreasing, we consider the error that is observed in the test data as this indicates the performance of the model in the event of facing an unseen circumstance. We can see in the plot that the polynomial with degree 2 results in the least cost (i.e. mean squared error in prediction), we will declare the **POLYNOMIAL WITH DEGREE 2 AS THE BEST REGRESSION MODEL** for time prediction."
   ]
  },
  {
   "cell_type": "markdown",
   "metadata": {},
   "source": [
    "Next, compute the final weights of the best model utilizing the **complete data set**"
   ]
  },
  {
   "cell_type": "code",
   "execution_count": 6,
   "metadata": {},
   "outputs": [
    {
     "name": "stdout",
     "output_type": "stream",
     "text": [
      " Weight for x^0: 13.1307\n",
      " Weight for x^1: -0.0432\n",
      " Weight for x^2: 0.0002\n",
      "As quadratic function had the least mean squared error, our final model is:\n",
      "13.1307 * x^0 + -0.0432 * x^1 + 0.0002 * x^2\n"
     ]
    }
   ],
   "source": [
    "##############################################################################\n",
    "#              TODO: Calculate the final regression model                    #\n",
    "##############################################################################\n",
    "\n",
    "#weights of the model utilizing the complete data set\n",
    "x_data = x[:,:3].copy()\n",
    "y_data = y.copy()\n",
    "\n",
    "A = np.linalg.inv(np.dot(x_data.T, x_data))\n",
    "B = np.dot(x_data.T ,y_data)\n",
    "w = np.around(np.dot(A, B).tolist(),4)\n",
    "\n",
    "string = \"\"\n",
    "\n",
    "for i in range(len(w)):\n",
    "    print(f' Weight for x^{i}: {w[i][0]}')\n",
    "    string += str(w[i][0]) + f' * x^{i}'\n",
    "    if i != len(w)-1:\n",
    "        string += \" + \"\n",
    "print(\"As quadratic function had the least mean squared error, our final model is:\")\n",
    "print(string)\n",
    "\n",
    "\n",
    "\n",
    "##############################################################################\n",
    "#                              END OF YOUR CODE                              #\n",
    "##############################################################################"
   ]
  },
  {
   "cell_type": "markdown",
   "metadata": {},
   "source": [
    "## Prediction Using the Best Model"
   ]
  },
  {
   "cell_type": "markdown",
   "metadata": {},
   "source": [
    "Write a Python program that takes a **year** as input, then outputs the winning women’s Olympic 100-meter **race time** for that year (round to two decimal places). You need to try and print out the results of **at least three different years**, and the final trial should output the race time of **2024**."
   ]
  },
  {
   "cell_type": "code",
   "execution_count": 7,
   "metadata": {},
   "outputs": [
    {
     "name": "stdout",
     "output_type": "stream",
     "text": [
      "Enter the year (>1900) for prediction. Type exit to leave: 1928\n",
      "12.08\n",
      "Enter the year (>1900) for prediction. Type exit to leave: 1952\n",
      "11.43\n",
      "Enter the year (>1900) for prediction. Type exit to leave: 1964\n",
      "11.19\n",
      "Enter the year (>1900) for prediction. Type exit to leave: 1988\n",
      "10.88\n",
      "Enter the year (>1900) for prediction. Type exit to leave: 2004\n",
      "10.8\n",
      "Enter the year (>1900) for prediction. Type exit to leave: 2024\n",
      "10.85\n",
      "Enter the year (>1900) for prediction. Type exit to leave: exit\n"
     ]
    }
   ],
   "source": [
    "##############################################################################\n",
    "#         TODO: Predict the race time using the best model                   #\n",
    "##############################################################################\n",
    "while True:\n",
    "    try:\n",
    "        input_year = input(\"Enter the year (>1900) for prediction. Type exit to leave: \")\n",
    "        if(input_year.lower() != \"exit\"):\n",
    "            input_year = int(input_year) - 1900\n",
    "            X = [input_year**i for i in range(3)]\n",
    "            X = np.array(X).reshape((1,3))\n",
    "            y = np.around(np.dot(X,w),2)\n",
    "            print(y[(0,0)])\n",
    "        else:\n",
    "            break\n",
    "    except:\n",
    "        print(\"Please enter a valid input!\")\n",
    "\n",
    "##############################################################################\n",
    "#                              END OF YOUR CODE                              #\n",
    "##############################################################################"
   ]
  }
 ],
 "metadata": {
  "kernelspec": {
   "display_name": "Python 3 (ipykernel)",
   "language": "python",
   "name": "python3"
  },
  "language_info": {
   "codemirror_mode": {
    "name": "ipython",
    "version": 3
   },
   "file_extension": ".py",
   "mimetype": "text/x-python",
   "name": "python",
   "nbconvert_exporter": "python",
   "pygments_lexer": "ipython3",
   "version": "3.9.16"
  }
 },
 "nbformat": 4,
 "nbformat_minor": 2
}
